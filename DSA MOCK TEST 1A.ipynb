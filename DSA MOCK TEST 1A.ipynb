{
 "cells": [
  {
   "cell_type": "markdown",
   "id": "2c36e76b-e850-42b2-bed8-8941145872e5",
   "metadata": {},
   "source": [
    "## ANSWER 1"
   ]
  },
  {
   "cell_type": "code",
   "execution_count": 14,
   "id": "19a6070d-f7b5-4038-a92d-f299d3d09950",
   "metadata": {},
   "outputs": [],
   "source": [
    "def moveZeroes(n):\n",
    "    left = 0  \n",
    "    right = 0  \n",
    "\n",
    "    while right < len(n):\n",
    "        if n[right] != 0:\n",
    "            n[left], n[right] = n[right], n[left]\n",
    "            left += 1\n",
    "        right += 1\n"
   ]
  },
  {
   "cell_type": "code",
   "execution_count": 15,
   "id": "f843d32d-c65b-4259-8624-d17c3b0fba8e",
   "metadata": {},
   "outputs": [
    {
     "name": "stdout",
     "output_type": "stream",
     "text": [
      "[1, 3, 12, 0, 0]\n"
     ]
    }
   ],
   "source": [
    "n = [0, 1, 0, 3, 12]\n",
    "moveZeroes(n)\n",
    "print(n) \n"
   ]
  },
  {
   "cell_type": "code",
   "execution_count": 16,
   "id": "43d4455f-7d94-4342-85e1-cc1253b40fce",
   "metadata": {},
   "outputs": [
    {
     "name": "stdout",
     "output_type": "stream",
     "text": [
      "[0]\n"
     ]
    }
   ],
   "source": [
    "n = [0]\n",
    "moveZeroes(n)\n",
    "print(n) \n"
   ]
  },
  {
   "cell_type": "code",
   "execution_count": null,
   "id": "1c12b85e-4d9d-418e-b189-2d78e8f4c4b3",
   "metadata": {},
   "outputs": [],
   "source": []
  }
 ],
 "metadata": {
  "kernelspec": {
   "display_name": "Python 3 (ipykernel)",
   "language": "python",
   "name": "python3"
  },
  "language_info": {
   "codemirror_mode": {
    "name": "ipython",
    "version": 3
   },
   "file_extension": ".py",
   "mimetype": "text/x-python",
   "name": "python",
   "nbconvert_exporter": "python",
   "pygments_lexer": "ipython3",
   "version": "3.10.8"
  }
 },
 "nbformat": 4,
 "nbformat_minor": 5
}
