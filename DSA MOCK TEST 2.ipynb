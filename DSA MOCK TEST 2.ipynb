{
 "cells": [
  {
   "cell_type": "markdown",
   "id": "35d14696-362d-4065-8de4-f3f931e209bf",
   "metadata": {},
   "source": [
    "## DSA MOCK TEST 2"
   ]
  },
  {
   "cell_type": "markdown",
   "id": "c23be39c-9123-4bfb-bdcf-5191ad9328c8",
   "metadata": {},
   "source": [
    "## ANSWER 17"
   ]
  },
  {
   "cell_type": "code",
   "execution_count": 2,
   "id": "3ff783d4-4fc6-40de-82e7-de5ea7edb427",
   "metadata": {},
   "outputs": [],
   "source": [
    "def get_even_numbers(numbers):\n",
    "    return [num for num in numbers if num % 2 == 0]\n"
   ]
  },
  {
   "cell_type": "code",
   "execution_count": 3,
   "id": "a4548b14-b632-4ec0-8ede-98f80bddecf3",
   "metadata": {},
   "outputs": [
    {
     "name": "stdout",
     "output_type": "stream",
     "text": [
      "[2, 4, 6, 8, 10]\n"
     ]
    }
   ],
   "source": [
    "input_list = [1, 2, 3, 4, 5, 6, 7, 8, 9, 10]\n",
    "output_list = get_even_numbers(input_list)\n",
    "print(output_list)\n"
   ]
  },
  {
   "cell_type": "code",
   "execution_count": null,
   "id": "9bc1b235-2122-48e1-8359-bb5d94308068",
   "metadata": {},
   "outputs": [],
   "source": []
  },
  {
   "cell_type": "markdown",
   "id": "fe3fee25-fdac-4f22-9ea6-b438eccc0b1c",
   "metadata": {},
   "source": [
    "## ANSWER 18"
   ]
  },
  {
   "cell_type": "code",
   "execution_count": 5,
   "id": "9049f35a-d095-4735-b67d-0bc5a7594470",
   "metadata": {},
   "outputs": [],
   "source": [
    "import time\n",
    "\n",
    "def timer(func):\n",
    "    def wrapper(*args, **kwargs):\n",
    "        start_time = time.time()\n",
    "        result = func(*args, **kwargs)\n",
    "        end_time = time.time()\n",
    "        execution_time = end_time - start_time\n",
    "        print(f\"Execution time: {execution_time:.5f} seconds\")\n",
    "        return result\n",
    "    return wrapper\n"
   ]
  },
  {
   "cell_type": "code",
   "execution_count": 6,
   "id": "1840f6ac-11b3-449e-b3d3-fa661a5f8e13",
   "metadata": {},
   "outputs": [
    {
     "name": "stdout",
     "output_type": "stream",
     "text": [
      "Execution time: 2.00207 seconds\n"
     ]
    }
   ],
   "source": [
    "@timer\n",
    "def my_function():\n",
    "    # Function code goes here\n",
    "    time.sleep(2)\n",
    "\n",
    "my_function()\n"
   ]
  },
  {
   "cell_type": "code",
   "execution_count": null,
   "id": "6dca37c1-0daa-49c8-bbec-cebe13587c69",
   "metadata": {},
   "outputs": [],
   "source": []
  },
  {
   "cell_type": "markdown",
   "id": "a2837d6c-c204-4419-814a-729b2514327c",
   "metadata": {},
   "source": [
    "## ANSWER 19"
   ]
  },
  {
   "cell_type": "code",
   "execution_count": 8,
   "id": "4505c26d-1141-4e26-ac42-fcbfffca5c59",
   "metadata": {},
   "outputs": [],
   "source": [
    "def calculate_mean(numbers):\n",
    "    total = sum(numbers)\n",
    "    count = len(numbers)\n",
    "    mean = total / count\n",
    "    return mean\n"
   ]
  },
  {
   "cell_type": "code",
   "execution_count": 9,
   "id": "acc86f6b-e68c-45cf-8187-31410a175d27",
   "metadata": {},
   "outputs": [
    {
     "name": "stdout",
     "output_type": "stream",
     "text": [
      "Mean: 20.0\n"
     ]
    }
   ],
   "source": [
    "data = [10, 15, 20, 25, 30]\n",
    "mean_value = calculate_mean(data)\n",
    "print(\"Mean:\", mean_value)\n"
   ]
  },
  {
   "cell_type": "code",
   "execution_count": null,
   "id": "23961bed-c5c2-4e06-8a78-d39c20406133",
   "metadata": {},
   "outputs": [],
   "source": []
  },
  {
   "cell_type": "markdown",
   "id": "2fe497aa-6f4f-4193-86d1-c36e7594bf70",
   "metadata": {},
   "source": [
    "## ANSWER 20"
   ]
  },
  {
   "cell_type": "code",
   "execution_count": 18,
   "id": "d9c39f25-968c-47ef-a97c-8aa3fc06ab9c",
   "metadata": {},
   "outputs": [],
   "source": [
    "from scipy import stats\n",
    "\n",
    "def perform_hypothesis_test(sample1, sample2):\n",
    "    t_statistic, p_value = stats.ttest_ind(sample1, sample2)\n",
    "    return p_value\n"
   ]
  },
  {
   "cell_type": "code",
   "execution_count": 19,
   "id": "9c451ea7-6b25-43df-8e94-b995517103d5",
   "metadata": {},
   "outputs": [
    {
     "name": "stdout",
     "output_type": "stream",
     "text": [
      "P-value: 0.09434977284243756\n"
     ]
    }
   ],
   "source": [
    "sample1 = [5, 10, 15, 20, 25]\n",
    "sample2 = [10, 20, 30, 40, 50]\n",
    "p_value = perform_hypothesis_test(sample1, sample2)\n",
    "print(\"P-value:\", p_value)\n"
   ]
  },
  {
   "cell_type": "code",
   "execution_count": null,
   "id": "6491a7dd-3d9d-4b4b-b18c-853cb3a6eb24",
   "metadata": {},
   "outputs": [],
   "source": []
  },
  {
   "cell_type": "code",
   "execution_count": null,
   "id": "61be7747-f7b1-4f70-8324-1bfca3ad781d",
   "metadata": {},
   "outputs": [],
   "source": []
  },
  {
   "cell_type": "code",
   "execution_count": null,
   "id": "c12c69a7-d960-40b0-a785-798568b23a43",
   "metadata": {},
   "outputs": [],
   "source": []
  },
  {
   "cell_type": "code",
   "execution_count": null,
   "id": "e9a59c6f-4739-411e-b5d9-93609617ffe1",
   "metadata": {},
   "outputs": [],
   "source": []
  }
 ],
 "metadata": {
  "kernelspec": {
   "display_name": "Python 3 (ipykernel)",
   "language": "python",
   "name": "python3"
  },
  "language_info": {
   "codemirror_mode": {
    "name": "ipython",
    "version": 3
   },
   "file_extension": ".py",
   "mimetype": "text/x-python",
   "name": "python",
   "nbconvert_exporter": "python",
   "pygments_lexer": "ipython3",
   "version": "3.10.8"
  }
 },
 "nbformat": 4,
 "nbformat_minor": 5
}
