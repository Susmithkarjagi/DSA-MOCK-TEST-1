{
 "cells": [
  {
   "cell_type": "markdown",
   "id": "5aa12386-71ea-42f5-89bd-8cc0e01647b9",
   "metadata": {},
   "source": [
    "## ANSWER 2"
   ]
  },
  {
   "cell_type": "code",
   "execution_count": 4,
   "id": "7bdd5034-0770-4c83-932c-5cf726051179",
   "metadata": {},
   "outputs": [],
   "source": [
    "def firstUniqChar(s):\n",
    "    char_count = {}  \n",
    " \n",
    "    for char in s:\n",
    "        char_count[char] = char_count.get(char, 0) + 1\n",
    "\n",
    "    for i, char in enumerate(s):\n",
    "        if char_count[char] == 1:\n",
    "            return i\n",
    "    return -1  \n"
   ]
  },
  {
   "cell_type": "code",
   "execution_count": 5,
   "id": "3f5cb6ea-b5ec-40fc-aba3-035077204f7e",
   "metadata": {},
   "outputs": [
    {
     "name": "stdout",
     "output_type": "stream",
     "text": [
      "0\n",
      "2\n",
      "-1\n"
     ]
    }
   ],
   "source": [
    "s = \"leetcode\"\n",
    "print(firstUniqChar(s))  \n",
    "\n",
    "s = \"loveleetcode\"\n",
    "print(firstUniqChar(s))  \n",
    "\n",
    "s = \"aabb\"\n",
    "print(firstUniqChar(s))  \n"
   ]
  },
  {
   "cell_type": "code",
   "execution_count": null,
   "id": "977c3596-273d-4d31-a1a9-9e745f1017e4",
   "metadata": {},
   "outputs": [],
   "source": []
  }
 ],
 "metadata": {
  "kernelspec": {
   "display_name": "Python 3 (ipykernel)",
   "language": "python",
   "name": "python3"
  },
  "language_info": {
   "codemirror_mode": {
    "name": "ipython",
    "version": 3
   },
   "file_extension": ".py",
   "mimetype": "text/x-python",
   "name": "python",
   "nbconvert_exporter": "python",
   "pygments_lexer": "ipython3",
   "version": "3.10.8"
  }
 },
 "nbformat": 4,
 "nbformat_minor": 5
}
